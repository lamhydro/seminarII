{
 "cells": [
  {
   "cell_type": "markdown",
   "id": "c7d48e8a-ab83-4a20-b363-81d28d39a46b",
   "metadata": {},
   "source": [
    "# Time Series Analisis\n",
    "## Load the data data\n",
    "We are going to read a **MS Exel** data base with time series of daily precipitation and mean daily discharges in stations located in the Chingaza National Park, Colombia"
   ]
  },
  {
   "cell_type": "code",
   "execution_count": 38,
   "id": "04c3ca32-ccf5-4b02-a79c-440109199ff4",
   "metadata": {},
   "outputs": [
    {
     "name": "stdout",
     "output_type": "stream",
     "text": [
      "0\n",
      "           Dato mm\n",
      "Fecha             \n",
      "1952-11-15       4\n",
      "1952-11-16    13.8\n",
      "1952-11-17     6.1\n",
      "1952-11-18     9.6\n",
      "1952-11-19     9.4\n",
      "...            ...\n",
      "2014-12-15     5.3\n",
      "2014-12-16     0.5\n",
      "2014-12-17     0.1\n",
      "2014-12-18       0\n",
      "2014-12-19       0\n",
      "\n",
      "[12436 rows x 1 columns]\n"
     ]
    },
    {
     "data": {
      "text/plain": [
       "<AxesSubplot:xlabel='Fecha'>"
      ]
     },
     "execution_count": 38,
     "metadata": {},
     "output_type": "execute_result"
    },
    {
     "data": {
      "image/png": "[encoded data removed]",
      "text/plain": [
       "<Figure size 432x288 with 1 Axes>"
      ]
     },
     "metadata": {
      "needs_background": "light"
     },
     "output_type": "display_data"
    }
   ],
   "source": [
    "import sys, os\n",
    "import numpy as np\n",
    "import pandas as pd\n",
    "import matplotlib.pyplot as plt\n",
    "\n",
    "# Input data\n",
    "filename='/home/alejandro/Documents/unal/projects/paramoPaper/data/hydro/INFORMACIÓN CHINGAZA UNIVERSIDAD NACIONAL.xlsx'\n",
    "\n",
    "\n",
    "# Input data\n",
    "filename='/home/alejandro/Documents/unal/projects/paramoPaper/data/hydro/INFORMACIÓN CHINGAZA UNIVERSIDAD NACIONAL.xlsx'\n",
    "sheet='PTD - 20128  PALACIOS GUASCA '\n",
    "srow=11\n",
    "erow=12447\n",
    "xcoln='Fecha'\n",
    "ycoln='Dato mm'\n",
    "\n",
    "# Load the file data\n",
    "fdata = pd.read_excel(filename, sheet_name=[sheet])\n",
    "\n",
    "ts=fdata[sheet].iloc[srow:erow, [0,1]]\n",
    "ts.columns=[xcoln,ycoln]\n",
    "ts = ts.set_index(xcoln)\n",
    "#ts = ts.drop(['Fecha'], axis=1)\n",
    "mts_me = ts.resample(\"M\").mean()\n",
    "yts_me = ts.resample(\"Y\").mean()\n",
    "\n",
    "print(ts.isnull().sum().sum())\n",
    "\n",
    "print(ts)\n",
    "ts.plot()\n",
    "\n"
   ]
  },
  {
   "cell_type": "code",
   "execution_count": 25,
   "id": "64a5fef7-a2d4-4ab0-8284-dd8245e4ded0",
   "metadata": {},
   "outputs": [
    {
     "ename": "TypeError",
     "evalue": "'Index' object is not callable",
     "output_type": "error",
     "traceback": [
      "\u001b[0;31m---------------------------------------------------------------------------\u001b[0m",
      "\u001b[0;31mTypeError\u001b[0m                                 Traceback (most recent call last)",
      "\u001b[0;32m/tmp/ipykernel_17557/2231513747.py\u001b[0m in \u001b[0;36m<module>\u001b[0;34m\u001b[0m\n\u001b[0;32m----> 1\u001b[0;31m \u001b[0mlen\u001b[0m\u001b[0;34m(\u001b[0m\u001b[0mts\u001b[0m\u001b[0;34m.\u001b[0m\u001b[0mcolumns\u001b[0m\u001b[0;34m(\u001b[0m\u001b[0;34m)\u001b[0m\u001b[0;34m)\u001b[0m\u001b[0;34m\u001b[0m\u001b[0;34m\u001b[0m\u001b[0m\n\u001b[0m",
      "\u001b[0;31mTypeError\u001b[0m: 'Index' object is not callable"
     ]
    }
   ],
   "source": [
    "len(ts.columns())\n"
   ]
  },
  {
   "cell_type": "code",
   "execution_count": 11,
   "id": "4117eb13-c129-4127-8d67-0d45945177e0",
   "metadata": {},
   "outputs": [
    {
     "data": {
      "text/plain": [
       "dict"
      ]
     },
     "execution_count": 11,
     "metadata": {},
     "output_type": "execute_result"
    }
   ],
   "source": [
    "type(fdata)"
   ]
  },
  {
   "cell_type": "code",
   "execution_count": 12,
   "id": "626b3483-6287-4c58-b897-4664075b2e61",
   "metadata": {},
   "outputs": [
    {
     "data": {
      "text/plain": [
       "dict_keys(['PTD 3704 SAN JOSE - RIO GUTIQUI'])"
      ]
     },
     "execution_count": 12,
     "metadata": {},
     "output_type": "execute_result"
    }
   ],
   "source": [
    "fdata.keys()"
   ]
  },
  {
   "cell_type": "code",
   "execution_count": 13,
   "id": "ed6ec9c7-3670-4120-afaf-27ca1c9909cc",
   "metadata": {},
   "outputs": [
    {
     "data": {
      "text/plain": [
       "dict_values([           *** EAAB E.S.P. ***   \n",
       "0                          NaN  \\\n",
       "1                          NaN   \n",
       "2      FECHA REPORTE: 2024/2/2   \n",
       "3                          NaN   \n",
       "4                LATITUD:4º32'   \n",
       "...                        ...   \n",
       "19224      2023-09-28 00:00:00   \n",
       "19225      2023-09-29 00:00:00   \n",
       "19226      2023-09-30 00:00:00   \n",
       "19227      2023-10-01 00:00:00   \n",
       "19228      2023-10-02 00:00:00   \n",
       "\n",
       "                                            Unnamed: 1   \n",
       "0                 102 - CAUDALES MEDIOS DIARIOS m3/seg  \\\n",
       "1                                                  NaN   \n",
       "2                                                  NaN   \n",
       "3      ELEMENTO:3704 (L-019 ) SAN JOSE - RIO GUATIQUIA   \n",
       "4                                   DEPTO:CUNDINAMARCA   \n",
       "...                                                ...   \n",
       "19224                                            0.864   \n",
       "19225                                            0.807   \n",
       "19226                                            0.777   \n",
       "19227                                            0.925   \n",
       "19228                                            0.836   \n",
       "\n",
       "      SIH SISTEMA DE INFORMACIÓN HIDROLÓGICA            Unnamed: 3  \n",
       "0                                        NaN                   NaN  \n",
       "1                                        NaN                   NaN  \n",
       "2                                        NaN                   NaN  \n",
       "3                                        NaN                   NaN  \n",
       "4                             TIPO ESTACION:  CUENCA:RIO GUATIQUIA  \n",
       "...                                      ...                   ...  \n",
       "19224                                    NaN                   NaN  \n",
       "19225                                    NaN                   NaN  \n",
       "19226                                    NaN                   NaN  \n",
       "19227                                    NaN                   NaN  \n",
       "19228                                    NaN                   NaN  \n",
       "\n",
       "[19229 rows x 4 columns]])"
      ]
     },
     "execution_count": 13,
     "metadata": {},
     "output_type": "execute_result"
    }
   ],
   "source": [
    "fdata.values()\n"
   ]
  },
  {
   "cell_type": "code",
   "execution_count": 18,
   "id": "8071b785-1968-439b-89cf-90586749dfa2",
   "metadata": {},
   "outputs": [
    {
     "data": {
      "text/plain": [
       "pandas.core.frame.DataFrame"
      ]
     },
     "execution_count": 18,
     "metadata": {},
     "output_type": "execute_result"
    }
   ],
   "source": [
    "type(df)"
   ]
  },
  {
   "cell_type": "code",
   "execution_count": 20,
   "id": "8dc83408-22c1-440b-bf7b-efcce1b276fb",
   "metadata": {},
   "outputs": [
    {
     "data": {
      "text/plain": [
       "1"
      ]
     },
     "execution_count": 20,
     "metadata": {},
     "output_type": "execute_result"
    }
   ],
   "source": [
    "len(df.columns)"
   ]
  },
  {
   "cell_type": "code",
   "execution_count": null,
   "id": "02ebddcf-785e-41b5-9403-b8a2acb39859",
   "metadata": {},
   "outputs": [],
   "source": []
  }
 ],
 "metadata": {
  "kernelspec": {
   "display_name": "Python 3 (ipykernel)",
   "language": "python",
   "name": "python3"
  },
  "language_info": {
   "codemirror_mode": {
    "name": "ipython",
    "version": 3
   },
   "file_extension": ".py",
   "mimetype": "text/x-python",
   "name": "python",
   "nbconvert_exporter": "python",
   "pygments_lexer": "ipython3",
   "version": "3.10.12"
  }
 },
 "nbformat": 4,
 "nbformat_minor": 5
}
